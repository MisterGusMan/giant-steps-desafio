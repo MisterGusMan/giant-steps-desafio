{
  "nbformat": 4,
  "nbformat_minor": 0,
  "metadata": {
    "colab": {
      "name": "giant-steps-desafio.ipynb",
      "provenance": [],
      "collapsed_sections": [],
      "toc_visible": true
    },
    "kernelspec": {
      "name": "python3",
      "display_name": "Python 3"
    },
    "language_info": {
      "name": "python"
    }
  },
  "cells": [
    {
      "cell_type": "markdown",
      "metadata": {
        "id": "sn-H3OdDSo9I"
      },
      "source": [
        "# 1. Introdução\n"
      ]
    },
    {
      "cell_type": "markdown",
      "metadata": {
        "id": "cDCu7BkAcbGm"
      },
      "source": [
        "Para resolver o desfio, estarei utilizando este notebook para delinear as etapas percorridas. Primeiramente, vamos analisar o que deve ser feito:\n",
        "\n",
        "\n",
        "\n",
        "```\n",
        "1.   Ler o arquivo gotham_op.txt;\n",
        "2.   Retornar o total que foi comprado e vendido no dia por ativo (TICKER)\n",
        "        * Somar as compras (BUY) e subtrair as vendas (SELL) das linhas válidas agrupando pelo TICKER;\n",
        "3. Informar quais linhas são inválidas.\n",
        "```\n",
        "Com isso, vamos analisar o arquivo `gotham_op.txt`:"
      ]
    },
    {
      "cell_type": "code",
      "metadata": {
        "colab": {
          "base_uri": "https://localhost:8080/"
        },
        "id": "X6KcK9SRlyFJ",
        "outputId": "74e044f0-e86e-4b33-b732-be86d21fd619"
      },
      "source": [
        "from google.colab import drive\n",
        "drive.mount('/drive')"
      ],
      "execution_count": 1,
      "outputs": [
        {
          "output_type": "stream",
          "text": [
            "Drive already mounted at /drive; to attempt to forcibly remount, call drive.mount(\"/drive\", force_remount=True).\n"
          ],
          "name": "stdout"
        }
      ]
    },
    {
      "cell_type": "code",
      "metadata": {
        "colab": {
          "base_uri": "https://localhost:8080/"
        },
        "id": "qwQXPIPbT4CY",
        "outputId": "9fc08307-ed66-44e4-cdb7-347590b040bb"
      },
      "source": [
        "g = open('/drive/My Drive/gotham_op.txt', 'r')\n",
        "print(g.read())\n",
        "g.close()"
      ],
      "execution_count": 2,
      "outputs": [
        {
          "output_type": "stream",
          "text": [
            "SIDE:BUY;QTY:100;TICKER:ACEC4\n",
            "SIDE:BUY;QTY:1000;TICKER:WAYN3\n",
            "SIDE:SELL;QTY:369;TICKER:ACEC4\n",
            "SIDE:SELL;QTY:200;TICKER:WAYN3\n",
            "SIDE:BUY;QTY:1000;TICKER:LEXC0\n",
            "SIDE:SELL;QTY:10;TICKER:ACEC4\n",
            "SIDE:BUY;QTY:5000;TICKER:WAYN3\n",
            "SIDE:BUY;QTY:100;TICKER:ACE4\n",
            "SIDE:B;QTY:100;TICKER:QEEN36\n",
            "SIDE:SELL;QTY:2;TICKER:ACEC4\n",
            "SIDE:SELL;QTY:100;TICKER:QEEN36\n",
            "SIDE:BUY;QTY:-100;TICKER:ACEC4\n",
            "SIDE:SELL;QTY:1200;TICKER:WAYN3\n",
            "SIDE:SELL;QTY:100;TICKER:LEXC0\n",
            "SIDE:SELL;QTY:9;TICKER:ACEC4\n",
            "SIDE:BUY;QTY:200;TICKER:ACEC43\n",
            "SIDE:SELL;QTY:900;TICKER:QEEN36\n",
            "SIDE:BUY;QTY:1;TICKER:ACEC4\n",
            "SIDE:BUY;QTY:2000;TICKER:LEXC0\n",
            "SIDE:BUY;QTY:100;TICKER:ACEC4\n",
            "SIDE:SELL;QTY:-100;TICKER:ACE4\n",
            "SIDE:BUY;QTY:200;TICKER:ACEC43\n",
            "SIDE:SELL;QTY:100;TICKER:WAYN3\n",
            "SIDE:BUY;QTY:100;TICKER:ACEC4\n",
            "SIDE:BUY;QTY:100;TICKER:ACEC4\n",
            "SIDE:BUY;QTY:100;TICKER:ACECHEMICAL\n",
            "SIDE:B;QTY:100;TICKER:WAYNE\n",
            "SIDE:S;QTY:-100;TICKER:ACE4\n",
            "SIDE:SELL;QTY:900;TICKER:QEEN36\n",
            "SIDE:BUY;QTY:100;TICKER:DAILYPLANET\n",
            "SIDE:S;QTY:100;TICKER:WAYNE\n",
            "SIDE:SELL;QTY:SELL;TICKER:ACE4\n",
            "SIDE:BUY;QTY:100;TICKER:LEX4\n",
            "SIDE:BUY;QTY:100;TICKER:WAY3\n",
            "SIDE:BUY;QTY:100;TICKER:ACE4\n",
            "SIDE:SELL;QTY:SELL;TICKER:ACE4\n",
            "SIDE:BUY;QTY:100;TICKER:DAILYPLANET\n",
            "SIDE:BUY;QTY:7000;TICKER:ACME11\n",
            "SIDE:BUY;QTY:300;TICKER:PALM9\n",
            "SIDE:SELL;QTY:100;TICKER:ACEC4\n",
            "SIDE:BUY;QTY:200;TICKER:ACE43\n",
            "SIDE:BUY;QTY:100;TICKER:ACE4\n",
            "SIDE:SELL;QTY:SELL;TICKER:ACE4\n",
            "SIDE:BUY;QTY:100;TICKER:ACEC4\n",
            "SIDE:SELL;QTY:100;TICKER:WAYNE\n",
            "SIDE:BUY;QTY:50;TICKER:WAYN3\n",
            "SIDE:SELL;QTY:369;TICKER:ACEC4\n",
            "SIDE:SELL;QTY:200;TICKER:WAYN3\n",
            "SIDE:BUY;QTY:33;TICKER:LEXC0\n",
            "SIDE:BUY;QTY:-1;TICKER:ACEC4\n",
            "SIDE:BUY;QTY:2000;TICKER:LEXC0\n",
            "SIDE:BUY;QTY:100;TICKER:ACEC4\n",
            "SIDE:SELL;QTY:1200;TICKER:LEXC44\n",
            "SIDE:S;QTY:100;TICKER:LEXC0\n",
            "SIDE:SELL;QTY:10;TICKER:ACEC4\n",
            "SIDE:BUY;QTY:70;TICKER:WAYN3\n",
            "SIDE:BUY;QTY:100;TICKER:ACE4\n",
            "SIDE:BUY;QTY:95;TICKER:QEEN36\n",
            "SIDE:SELL;QTY:2;TICKER:ACEC4\n",
            "SIDE:SELL;QTY:100;TICKER:QEEN36\n",
            "SIDE:BUY;QTY:-100;TICKER:ACECHEMICAL\n",
            "SIDE:SELL;QTY:9;TICKER:ACEC4\n",
            "SIDE:SELL;QTY:100;TICKER:WAYN3\n",
            "SIDE:BUY;QTY:100;TICKER:ACEC4\n",
            "SIDE:B;QTY:81;TICKER:ACEC4\n",
            "SIDE:BUY;QTY:100;TICKER:ACECHEMICAL\n",
            "SIDE:BUY;QTY:100;TICKER:WAYNE\n",
            "SIDE:SELL;QTY:SELL;TICKER:ACE4\n",
            "SIDE:BUY;QTY:100;TICKER:DAILYPLANET\n",
            "SIDE:BUY;QTY:650;TICKER:ACME11\n",
            "SIDE:BUY;QTY:300;TICKER:PALM9\n",
            "SIDE:SELL;QTY:100;TICKER:ACEC4\n",
            "SIDE:BUY;QTY:200;TICKER:ACE43\n",
            "SIDE:B;QTY:100;TICKER:LEX4\n",
            "SIDE:BUY;QTY:42;TICKER:ACE43\n",
            "SIDE:BUY;QTY:100;TICKER:ACE4\n",
            "\n"
          ],
          "name": "stdout"
        }
      ]
    },
    {
      "cell_type": "markdown",
      "metadata": {
        "id": "JSFHMPkfVEsc"
      },
      "source": [
        "Como vemos, cada linha de texto se assemelha a um dict, na forma:\n",
        "\n",
        "`SIDE:{side_type};QTY:{quantity};TICKER:{ticker}`\n",
        "\n",
        "Definidos pelas regras:\n",
        "\n",
        "    * side_type: representa se foi uma compra ou venda\n",
        "        uma string que pode ter o valor BUY ou SELL\n",
        "    * quantity: representa a quantidade de ativos que foi comprada ou vendida\n",
        "        um número inteiro positivo não nulo\n",
        "        o número é multiplo de 10\n",
        "    * ticker: representa o ativo\n",
        "        uma string de cinco a seis caracteres\n",
        "        os quatro primeiros caracteres são sempre letras\n",
        "        quando tem somente 5 caracteres o último é um número de 0 a 9 (e.g.: WAYN3, PALM9)\n",
        "        quando tem 6 caracteres os dois últimos são números de 0 a 9 (e.g.: ACME11, QEEN36)\n"
      ]
    },
    {
      "cell_type": "markdown",
      "metadata": {
        "id": "3jmpS8DVcMhu"
      },
      "source": [
        "# 2. Separação de linhas inválidas\n",
        "\n",
        "Olhando superficialmente para o texto, já podemos perceber que existem linhas inválidas. Para analisá-las, vamos utilizar o módulo Regular Expressions, ou `regex`."
      ]
    },
    {
      "cell_type": "code",
      "metadata": {
        "id": "f8Z0fbdcQQkC"
      },
      "source": [
        "import re"
      ],
      "execution_count": 3,
      "outputs": []
    },
    {
      "cell_type": "markdown",
      "metadata": {
        "id": "sdAR_nWIW5_J"
      },
      "source": [
        "Para separar as linhas válidas das inválidas, vamos primeiro criar duas listas vazias para preencher com os resultados:"
      ]
    },
    {
      "cell_type": "code",
      "metadata": {
        "id": "HYqG8ap9ZbX4"
      },
      "source": [
        "validas = []\n",
        "invalidas = []"
      ],
      "execution_count": 4,
      "outputs": []
    },
    {
      "cell_type": "markdown",
      "metadata": {
        "id": "nHumQttWagA_"
      },
      "source": [
        "Vamos começar nossa classificação utilizando `SIDE`. Vamos analisar os valores deste parâmetro utilizando o método `.split():`"
      ]
    },
    {
      "cell_type": "code",
      "metadata": {
        "colab": {
          "base_uri": "https://localhost:8080/"
        },
        "id": "vf9CwvFzX1_b",
        "outputId": "c425aa76-1316-4f74-9702-e2c206b6f554"
      },
      "source": [
        "with open('/drive/My Drive/gotham_op.txt', 'r') as gotham:\n",
        "  print('SIDE: ')\n",
        "  for linha in gotham:\n",
        "    print(linha.split(';')[0].split(':')[-1], end = ' ')"
      ],
      "execution_count": 5,
      "outputs": [
        {
          "output_type": "stream",
          "text": [
            "SIDE: \n",
            "BUY BUY SELL SELL BUY SELL BUY BUY B SELL SELL BUY SELL SELL SELL BUY SELL BUY BUY BUY SELL BUY SELL BUY BUY BUY B S SELL BUY S SELL BUY BUY BUY SELL BUY BUY BUY SELL BUY BUY SELL BUY SELL BUY SELL SELL BUY BUY BUY BUY SELL S SELL BUY BUY BUY SELL SELL BUY SELL SELL BUY B BUY BUY SELL BUY BUY BUY SELL BUY B BUY BUY "
          ],
          "name": "stdout"
        }
      ]
    },
    {
      "cell_type": "markdown",
      "metadata": {
        "id": "VzVyMj50YM53"
      },
      "source": [
        "Podemos ver que os únicos valores inválidos são `B` e `S`. Criaremos então uma função para detectar valores inválidos de SIDE em uma linha. Para separar os valores, vamos utilizar o padrão regex `r'/w{3,}'`, que procura uma string de três ou mais caracteres dentro do texto:"
      ]
    },
    {
      "cell_type": "code",
      "metadata": {
        "id": "fwxRwSHx5bDl"
      },
      "source": [
        "def side_invalido(linha):\n",
        "  s = linha.split(';')[0].split(':')[-1]\n",
        "  if not re.search(r'\\w{3,}', s):\n",
        "    invalidas.append(linha)"
      ],
      "execution_count": 6,
      "outputs": []
    },
    {
      "cell_type": "code",
      "metadata": {
        "id": "GNPX2Gkqdj0F"
      },
      "source": [
        "with open('/drive/My Drive/gotham_op.txt', 'r') as gotham:\n",
        "    for linha in gotham:\n",
        "      side_invalido(linha)"
      ],
      "execution_count": 7,
      "outputs": []
    },
    {
      "cell_type": "code",
      "metadata": {
        "colab": {
          "base_uri": "https://localhost:8080/"
        },
        "id": "Ra35_RNKhHFK",
        "outputId": "f5313dcf-7dde-4770-8d95-e7ee70f4d2cd"
      },
      "source": [
        "invalidas"
      ],
      "execution_count": 8,
      "outputs": [
        {
          "output_type": "execute_result",
          "data": {
            "text/plain": [
              "['SIDE:B;QTY:100;TICKER:QEEN36\\n',\n",
              " 'SIDE:B;QTY:100;TICKER:WAYNE\\n',\n",
              " 'SIDE:S;QTY:-100;TICKER:ACE4\\n',\n",
              " 'SIDE:S;QTY:100;TICKER:WAYNE\\n',\n",
              " 'SIDE:S;QTY:100;TICKER:LEXC0\\n',\n",
              " 'SIDE:B;QTY:81;TICKER:ACEC4\\n',\n",
              " 'SIDE:B;QTY:100;TICKER:LEX4\\n']"
            ]
          },
          "metadata": {
            "tags": []
          },
          "execution_count": 8
        }
      ]
    },
    {
      "cell_type": "markdown",
      "metadata": {
        "id": "mh9wzl95hzrb"
      },
      "source": [
        "Agora que separamos as linhas por `SIDE`, vamos repetir este processo com `QTY` e `TICKER`:"
      ]
    },
    {
      "cell_type": "code",
      "metadata": {
        "colab": {
          "base_uri": "https://localhost:8080/"
        },
        "id": "Cfm-Jev2tXGb",
        "outputId": "fe7de58c-0d12-4995-eb2f-521ba2720762"
      },
      "source": [
        "with open('/drive/My Drive/gotham_op.txt', 'r') as gotham:\n",
        "  print('QTY: ')\n",
        "  for linha in gotham:\n",
        "    print(linha.split(';')[1].split(':')[-1], end = ' ')"
      ],
      "execution_count": 9,
      "outputs": [
        {
          "output_type": "stream",
          "text": [
            "QTY: \n",
            "100 1000 369 200 1000 10 5000 100 100 2 100 -100 1200 100 9 200 900 1 2000 100 -100 200 100 100 100 100 100 -100 900 100 100 SELL 100 100 100 SELL 100 7000 300 100 200 100 SELL 100 100 50 369 200 33 -1 2000 100 1200 100 10 70 100 95 2 100 -100 9 100 100 81 100 100 SELL 100 650 300 100 200 100 42 100 "
          ],
          "name": "stdout"
        }
      ]
    },
    {
      "cell_type": "code",
      "metadata": {
        "id": "fi7IebiUiBik"
      },
      "source": [
        "def qty_invalido(linha):\n",
        "  q = linha.split(';')[1].split(':')[-1]\n",
        "  # Padrão definindo um número com um ou mais dígitos, terminando em 0, junto com condição para não repetir linhas:\n",
        "  if not re.search(r'^[\\d]+[0]$', q) and linha not in invalidas:\n",
        "    invalidas.append(linha)"
      ],
      "execution_count": 10,
      "outputs": []
    },
    {
      "cell_type": "code",
      "metadata": {
        "id": "DtdXUeWRi536"
      },
      "source": [
        "with open('/drive/My Drive/gotham_op.txt', 'r') as gotham:\n",
        "    for linha in gotham:\n",
        "      qty_invalido(linha)"
      ],
      "execution_count": 11,
      "outputs": []
    },
    {
      "cell_type": "code",
      "metadata": {
        "colab": {
          "base_uri": "https://localhost:8080/"
        },
        "id": "Sptea4WEi81x",
        "outputId": "90a564e5-8a96-4c70-9a11-50b6eabd2774"
      },
      "source": [
        "invalidas"
      ],
      "execution_count": 12,
      "outputs": [
        {
          "output_type": "execute_result",
          "data": {
            "text/plain": [
              "['SIDE:B;QTY:100;TICKER:QEEN36\\n',\n",
              " 'SIDE:B;QTY:100;TICKER:WAYNE\\n',\n",
              " 'SIDE:S;QTY:-100;TICKER:ACE4\\n',\n",
              " 'SIDE:S;QTY:100;TICKER:WAYNE\\n',\n",
              " 'SIDE:S;QTY:100;TICKER:LEXC0\\n',\n",
              " 'SIDE:B;QTY:81;TICKER:ACEC4\\n',\n",
              " 'SIDE:B;QTY:100;TICKER:LEX4\\n',\n",
              " 'SIDE:SELL;QTY:369;TICKER:ACEC4\\n',\n",
              " 'SIDE:SELL;QTY:2;TICKER:ACEC4\\n',\n",
              " 'SIDE:BUY;QTY:-100;TICKER:ACEC4\\n',\n",
              " 'SIDE:SELL;QTY:9;TICKER:ACEC4\\n',\n",
              " 'SIDE:BUY;QTY:1;TICKER:ACEC4\\n',\n",
              " 'SIDE:SELL;QTY:-100;TICKER:ACE4\\n',\n",
              " 'SIDE:SELL;QTY:SELL;TICKER:ACE4\\n',\n",
              " 'SIDE:BUY;QTY:33;TICKER:LEXC0\\n',\n",
              " 'SIDE:BUY;QTY:-1;TICKER:ACEC4\\n',\n",
              " 'SIDE:BUY;QTY:95;TICKER:QEEN36\\n',\n",
              " 'SIDE:BUY;QTY:-100;TICKER:ACECHEMICAL\\n',\n",
              " 'SIDE:BUY;QTY:42;TICKER:ACE43\\n']"
            ]
          },
          "metadata": {
            "tags": []
          },
          "execution_count": 12
        }
      ]
    },
    {
      "cell_type": "code",
      "metadata": {
        "colab": {
          "base_uri": "https://localhost:8080/"
        },
        "id": "184maO8_tUEu",
        "outputId": "36bd8586-4129-4012-cbd9-c9e02e89f57e"
      },
      "source": [
        "with open('/drive/My Drive/gotham_op.txt', 'r') as gotham:\n",
        "  print('TICKER: ')\n",
        "  for linha in gotham:\n",
        "    print(linha.split(';')[2].split(':')[-1][:-2], end = ' ')"
      ],
      "execution_count": 13,
      "outputs": [
        {
          "output_type": "stream",
          "text": [
            "TICKER: \n",
            "ACEC WAYN ACEC WAYN LEXC ACEC WAYN ACE QEEN3 ACEC QEEN3 ACEC WAYN LEXC ACEC ACEC4 QEEN3 ACEC LEXC ACEC ACE ACEC4 WAYN ACEC ACEC ACECHEMICA WAYN ACE QEEN3 DAILYPLANE WAYN ACE LEX WAY ACE ACE DAILYPLANE ACME1 PALM ACEC ACE4 ACE ACE ACEC WAYN WAYN ACEC WAYN LEXC ACEC LEXC ACEC LEXC4 LEXC ACEC WAYN ACE QEEN3 ACEC QEEN3 ACECHEMICA ACEC WAYN ACEC ACEC ACECHEMICA WAYN ACE DAILYPLANE ACME1 PALM ACEC ACE4 LEX ACE4 ACE "
          ],
          "name": "stdout"
        }
      ]
    },
    {
      "cell_type": "code",
      "metadata": {
        "id": "aGSB-xsvvNL9"
      },
      "source": [
        "def ticker_invalido(linha):\n",
        "  t = linha.split(';')[2].split(':')[-1]\n",
        "  # Padrão definindo 4 letras, junto com um ou mais números:\n",
        "  if not re.search(r'\\D{4,}\\d+', t) and linha not in invalidas:\n",
        "    invalidas.append(linha)"
      ],
      "execution_count": 14,
      "outputs": []
    },
    {
      "cell_type": "code",
      "metadata": {
        "id": "jJ2GOxewxjt7"
      },
      "source": [
        "with open('/drive/My Drive/gotham_op.txt', 'r') as gotham:\n",
        "    for linha in gotham:\n",
        "      ticker_invalido(linha)"
      ],
      "execution_count": 15,
      "outputs": []
    },
    {
      "cell_type": "code",
      "metadata": {
        "colab": {
          "base_uri": "https://localhost:8080/"
        },
        "id": "P3QmZa8uxl8n",
        "outputId": "02004556-bb55-4555-dfef-e679ade2963e"
      },
      "source": [
        "invalidas"
      ],
      "execution_count": 16,
      "outputs": [
        {
          "output_type": "execute_result",
          "data": {
            "text/plain": [
              "['SIDE:B;QTY:100;TICKER:QEEN36\\n',\n",
              " 'SIDE:B;QTY:100;TICKER:WAYNE\\n',\n",
              " 'SIDE:S;QTY:-100;TICKER:ACE4\\n',\n",
              " 'SIDE:S;QTY:100;TICKER:WAYNE\\n',\n",
              " 'SIDE:S;QTY:100;TICKER:LEXC0\\n',\n",
              " 'SIDE:B;QTY:81;TICKER:ACEC4\\n',\n",
              " 'SIDE:B;QTY:100;TICKER:LEX4\\n',\n",
              " 'SIDE:SELL;QTY:369;TICKER:ACEC4\\n',\n",
              " 'SIDE:SELL;QTY:2;TICKER:ACEC4\\n',\n",
              " 'SIDE:BUY;QTY:-100;TICKER:ACEC4\\n',\n",
              " 'SIDE:SELL;QTY:9;TICKER:ACEC4\\n',\n",
              " 'SIDE:BUY;QTY:1;TICKER:ACEC4\\n',\n",
              " 'SIDE:SELL;QTY:-100;TICKER:ACE4\\n',\n",
              " 'SIDE:SELL;QTY:SELL;TICKER:ACE4\\n',\n",
              " 'SIDE:BUY;QTY:33;TICKER:LEXC0\\n',\n",
              " 'SIDE:BUY;QTY:-1;TICKER:ACEC4\\n',\n",
              " 'SIDE:BUY;QTY:95;TICKER:QEEN36\\n',\n",
              " 'SIDE:BUY;QTY:-100;TICKER:ACECHEMICAL\\n',\n",
              " 'SIDE:BUY;QTY:42;TICKER:ACE43\\n',\n",
              " 'SIDE:BUY;QTY:100;TICKER:ACE4\\n',\n",
              " 'SIDE:BUY;QTY:100;TICKER:ACECHEMICAL\\n',\n",
              " 'SIDE:BUY;QTY:100;TICKER:DAILYPLANET\\n',\n",
              " 'SIDE:BUY;QTY:100;TICKER:LEX4\\n',\n",
              " 'SIDE:BUY;QTY:100;TICKER:WAY3\\n',\n",
              " 'SIDE:BUY;QTY:200;TICKER:ACE43\\n',\n",
              " 'SIDE:SELL;QTY:100;TICKER:WAYNE\\n',\n",
              " 'SIDE:BUY;QTY:100;TICKER:WAYNE\\n']"
            ]
          },
          "metadata": {
            "tags": []
          },
          "execution_count": 16
        }
      ]
    },
    {
      "cell_type": "markdown",
      "metadata": {
        "id": "Q1eeGQCky--7"
      },
      "source": [
        "Agora que temos nossa lista de linhas inválidas, podemos definir as válidas:"
      ]
    },
    {
      "cell_type": "code",
      "metadata": {
        "id": "HlSh305szT_j"
      },
      "source": [
        "with open('/drive/My Drive/gotham_op.txt', 'r') as gotham:\n",
        "    for linha in gotham:\n",
        "      if linha not in invalidas:\n",
        "        validas.append(linha)"
      ],
      "execution_count": 17,
      "outputs": []
    },
    {
      "cell_type": "code",
      "metadata": {
        "colab": {
          "base_uri": "https://localhost:8080/"
        },
        "id": "8PWi_gBjznaB",
        "outputId": "ebcaaa02-d860-4d80-a74a-bcb3c6ee5a5d"
      },
      "source": [
        "validas"
      ],
      "execution_count": 18,
      "outputs": [
        {
          "output_type": "execute_result",
          "data": {
            "text/plain": [
              "['SIDE:BUY;QTY:100;TICKER:ACEC4\\n',\n",
              " 'SIDE:BUY;QTY:1000;TICKER:WAYN3\\n',\n",
              " 'SIDE:SELL;QTY:200;TICKER:WAYN3\\n',\n",
              " 'SIDE:BUY;QTY:1000;TICKER:LEXC0\\n',\n",
              " 'SIDE:SELL;QTY:10;TICKER:ACEC4\\n',\n",
              " 'SIDE:BUY;QTY:5000;TICKER:WAYN3\\n',\n",
              " 'SIDE:SELL;QTY:100;TICKER:QEEN36\\n',\n",
              " 'SIDE:SELL;QTY:1200;TICKER:WAYN3\\n',\n",
              " 'SIDE:SELL;QTY:100;TICKER:LEXC0\\n',\n",
              " 'SIDE:BUY;QTY:200;TICKER:ACEC43\\n',\n",
              " 'SIDE:SELL;QTY:900;TICKER:QEEN36\\n',\n",
              " 'SIDE:BUY;QTY:2000;TICKER:LEXC0\\n',\n",
              " 'SIDE:BUY;QTY:100;TICKER:ACEC4\\n',\n",
              " 'SIDE:BUY;QTY:200;TICKER:ACEC43\\n',\n",
              " 'SIDE:SELL;QTY:100;TICKER:WAYN3\\n',\n",
              " 'SIDE:BUY;QTY:100;TICKER:ACEC4\\n',\n",
              " 'SIDE:BUY;QTY:100;TICKER:ACEC4\\n',\n",
              " 'SIDE:SELL;QTY:900;TICKER:QEEN36\\n',\n",
              " 'SIDE:BUY;QTY:7000;TICKER:ACME11\\n',\n",
              " 'SIDE:BUY;QTY:300;TICKER:PALM9\\n',\n",
              " 'SIDE:SELL;QTY:100;TICKER:ACEC4\\n',\n",
              " 'SIDE:BUY;QTY:100;TICKER:ACEC4\\n',\n",
              " 'SIDE:BUY;QTY:50;TICKER:WAYN3\\n',\n",
              " 'SIDE:SELL;QTY:200;TICKER:WAYN3\\n',\n",
              " 'SIDE:BUY;QTY:2000;TICKER:LEXC0\\n',\n",
              " 'SIDE:BUY;QTY:100;TICKER:ACEC4\\n',\n",
              " 'SIDE:SELL;QTY:1200;TICKER:LEXC44\\n',\n",
              " 'SIDE:SELL;QTY:10;TICKER:ACEC4\\n',\n",
              " 'SIDE:BUY;QTY:70;TICKER:WAYN3\\n',\n",
              " 'SIDE:SELL;QTY:100;TICKER:QEEN36\\n',\n",
              " 'SIDE:SELL;QTY:100;TICKER:WAYN3\\n',\n",
              " 'SIDE:BUY;QTY:100;TICKER:ACEC4\\n',\n",
              " 'SIDE:BUY;QTY:650;TICKER:ACME11\\n',\n",
              " 'SIDE:BUY;QTY:300;TICKER:PALM9\\n',\n",
              " 'SIDE:SELL;QTY:100;TICKER:ACEC4\\n']"
            ]
          },
          "metadata": {
            "tags": []
          },
          "execution_count": 18
        }
      ]
    },
    {
      "cell_type": "markdown",
      "metadata": {
        "id": "FQF7fP0B7FVd"
      },
      "source": [
        "# 3. Retornando o total comprado e vendido"
      ]
    },
    {
      "cell_type": "markdown",
      "metadata": {
        "id": "8yF9DZof7OsX"
      },
      "source": [
        "Com nossa lista de linhas válidas, vamos gerar os valores comprados e vendidos por cada um dos ativos. Primeiro, vamos gerar uma lista com todos os ativos válidos:"
      ]
    },
    {
      "cell_type": "code",
      "metadata": {
        "id": "nBYs9q1w7ex8"
      },
      "source": [
        "ticker = []"
      ],
      "execution_count": 19,
      "outputs": []
    },
    {
      "cell_type": "code",
      "metadata": {
        "id": "Nx3LGP_57nzJ"
      },
      "source": [
        "for item in validas:\n",
        "  # Cada string termina em '\\n', portanto precisamos recuperar até o penúltimo caracter [:-1]:\n",
        "  t = item.split(';')[2].split(':')[-1][:-1]\n",
        "  if t not in ticker:\n",
        "    ticker.append(t)"
      ],
      "execution_count": 20,
      "outputs": []
    },
    {
      "cell_type": "code",
      "metadata": {
        "colab": {
          "base_uri": "https://localhost:8080/"
        },
        "id": "QX1U1GgJ7_qI",
        "outputId": "f2294266-2c5e-414b-f882-528e81eb5564"
      },
      "source": [
        "ticker"
      ],
      "execution_count": 21,
      "outputs": [
        {
          "output_type": "execute_result",
          "data": {
            "text/plain": [
              "['ACEC4', 'WAYN3', 'LEXC0', 'QEEN36', 'ACEC43', 'ACME11', 'PALM9', 'LEXC44']"
            ]
          },
          "metadata": {
            "tags": []
          },
          "execution_count": 21
        }
      ]
    },
    {
      "cell_type": "markdown",
      "metadata": {
        "id": "--ik9VusPGGJ"
      },
      "source": [
        "Com essa nova lista, estamos prontos para gerar os resultados. Iterando sobre ambas as listas, vamos somar ou subtrair os valores `QTY` da lista `validas` ao `total` se o valor `TICKER` for igual ao elemento da lista `ticker`. Depois, resetamos o `total` e continuamos a iterar até o fim das listas. Vamos então armazenar o nome e o valor de cada ativo em uma nova lista: `ativos`."
      ]
    },
    {
      "cell_type": "code",
      "metadata": {
        "id": "3YIPwdFNQrfM"
      },
      "source": [
        "ativos = []"
      ],
      "execution_count": 22,
      "outputs": []
    },
    {
      "cell_type": "code",
      "metadata": {
        "id": "Dpv8Hqtu9TFS"
      },
      "source": [
        "# Iterando sobre ambas as listas:\n",
        "for item in ticker:\n",
        "  total = 0\n",
        "  for i in validas:\n",
        "    # Separando os valores SIDE, QTY e TICKER da lista validas:\n",
        "    t = i.split(';')[2].split(':')[-1][:-1]\n",
        "    s = i.split(';')[0].split(':')[-1]\n",
        "    q = int(i.split(';')[1].split(':')[-1])\n",
        "    # Comparando TICKER com o elemento da lista ticker:\n",
        "    if t == item:\n",
        "      # Somando se o valor for BUY, subtraindo caso SELL:\n",
        "      if s == 'BUY':\n",
        "        total += q\n",
        "      else:\n",
        "        total -= q\n",
        "  # Gerando uma string com o nome e valor para incluir na lista:\n",
        "  a = ''\n",
        "  x,y,z = str(item),':',str(total)\n",
        "  a += (x+y+z)\n",
        "  ativos.append(a)"
      ],
      "execution_count": 23,
      "outputs": []
    },
    {
      "cell_type": "code",
      "metadata": {
        "colab": {
          "base_uri": "https://localhost:8080/"
        },
        "id": "2fO_sUN9Sz9z",
        "outputId": "87b029ee-68a9-4e93-d2ba-2eee924206cf"
      },
      "source": [
        "ativos"
      ],
      "execution_count": 24,
      "outputs": [
        {
          "output_type": "execute_result",
          "data": {
            "text/plain": [
              "['ACEC4:480',\n",
              " 'WAYN3:4320',\n",
              " 'LEXC0:4900',\n",
              " 'QEEN36:-2000',\n",
              " 'ACEC43:400',\n",
              " 'ACME11:7650',\n",
              " 'PALM9:600',\n",
              " 'LEXC44:-1200']"
            ]
          },
          "metadata": {
            "tags": []
          },
          "execution_count": 24
        }
      ]
    },
    {
      "cell_type": "markdown",
      "metadata": {
        "id": "4Kq_FjR_TJXf"
      },
      "source": [
        "# 4. Classificando linhas inválidas"
      ]
    },
    {
      "cell_type": "markdown",
      "metadata": {
        "id": "4W5rwQl0TSak"
      },
      "source": [
        "Para concluir, vamos repetir os passos da seção 2 para definir a razão de cada linha para ser inválida:"
      ]
    },
    {
      "cell_type": "code",
      "metadata": {
        "colab": {
          "base_uri": "https://localhost:8080/"
        },
        "id": "SUk0WxNyThL7",
        "outputId": "1101d243-0212-4c55-8748-63a9bc3e259d"
      },
      "source": [
        "invalidas"
      ],
      "execution_count": 25,
      "outputs": [
        {
          "output_type": "execute_result",
          "data": {
            "text/plain": [
              "['SIDE:B;QTY:100;TICKER:QEEN36\\n',\n",
              " 'SIDE:B;QTY:100;TICKER:WAYNE\\n',\n",
              " 'SIDE:S;QTY:-100;TICKER:ACE4\\n',\n",
              " 'SIDE:S;QTY:100;TICKER:WAYNE\\n',\n",
              " 'SIDE:S;QTY:100;TICKER:LEXC0\\n',\n",
              " 'SIDE:B;QTY:81;TICKER:ACEC4\\n',\n",
              " 'SIDE:B;QTY:100;TICKER:LEX4\\n',\n",
              " 'SIDE:SELL;QTY:369;TICKER:ACEC4\\n',\n",
              " 'SIDE:SELL;QTY:2;TICKER:ACEC4\\n',\n",
              " 'SIDE:BUY;QTY:-100;TICKER:ACEC4\\n',\n",
              " 'SIDE:SELL;QTY:9;TICKER:ACEC4\\n',\n",
              " 'SIDE:BUY;QTY:1;TICKER:ACEC4\\n',\n",
              " 'SIDE:SELL;QTY:-100;TICKER:ACE4\\n',\n",
              " 'SIDE:SELL;QTY:SELL;TICKER:ACE4\\n',\n",
              " 'SIDE:BUY;QTY:33;TICKER:LEXC0\\n',\n",
              " 'SIDE:BUY;QTY:-1;TICKER:ACEC4\\n',\n",
              " 'SIDE:BUY;QTY:95;TICKER:QEEN36\\n',\n",
              " 'SIDE:BUY;QTY:-100;TICKER:ACECHEMICAL\\n',\n",
              " 'SIDE:BUY;QTY:42;TICKER:ACE43\\n',\n",
              " 'SIDE:BUY;QTY:100;TICKER:ACE4\\n',\n",
              " 'SIDE:BUY;QTY:100;TICKER:ACECHEMICAL\\n',\n",
              " 'SIDE:BUY;QTY:100;TICKER:DAILYPLANET\\n',\n",
              " 'SIDE:BUY;QTY:100;TICKER:LEX4\\n',\n",
              " 'SIDE:BUY;QTY:100;TICKER:WAY3\\n',\n",
              " 'SIDE:BUY;QTY:200;TICKER:ACE43\\n',\n",
              " 'SIDE:SELL;QTY:100;TICKER:WAYNE\\n',\n",
              " 'SIDE:BUY;QTY:100;TICKER:WAYNE\\n']"
            ]
          },
          "metadata": {
            "tags": []
          },
          "execution_count": 25
        }
      ]
    },
    {
      "cell_type": "code",
      "metadata": {
        "id": "3xqkLHgkTvwZ"
      },
      "source": [
        "ativos_invalidos = []"
      ],
      "execution_count": 26,
      "outputs": []
    },
    {
      "cell_type": "code",
      "metadata": {
        "id": "q-FqyKf5T3Ci"
      },
      "source": [
        "for item in invalidas:\n",
        "  l = str(item)\n",
        "  # Valor inválido de SIDE (B ou S):\n",
        "  if not re.search(r'\\w{3,}', item.split(';')[0].split(':')[-1]):\n",
        "    l += 'Valor invalido de SIDE; '\n",
        "  # QTY não múltiplo de 10:\n",
        "  if not re.search(r'0$', item.split(';')[1].split(':')[-1]):\n",
        "    l += 'QTY não é múltiplo de 10; '\n",
        "  # QTY negativo:\n",
        "  if re.search(r'^-', item.split(';')[1].split(':')[-1]):\n",
        "    l += 'QTY não é positivo; '\n",
        "  # TICKER mal formatado:\n",
        "  if not re.search(r'\\D{4,}\\d+', item.split(';')[2].split(':')[-1]):\n",
        "    l += 'TICKER mal formatado; '\n",
        "  ativos_invalidos.append(l)\n",
        "  "
      ],
      "execution_count": 27,
      "outputs": []
    },
    {
      "cell_type": "code",
      "metadata": {
        "colab": {
          "base_uri": "https://localhost:8080/"
        },
        "id": "8GPsITF5W1WA",
        "outputId": "97656965-f0ae-4395-88f5-592ec758b311"
      },
      "source": [
        "ativos_invalidos"
      ],
      "execution_count": 28,
      "outputs": [
        {
          "output_type": "execute_result",
          "data": {
            "text/plain": [
              "['SIDE:B;QTY:100;TICKER:QEEN36\\nValor invalido de SIDE; ',\n",
              " 'SIDE:B;QTY:100;TICKER:WAYNE\\nValor invalido de SIDE; TICKER mal formatado; ',\n",
              " 'SIDE:S;QTY:-100;TICKER:ACE4\\nValor invalido de SIDE; QTY não é positivo; TICKER mal formatado; ',\n",
              " 'SIDE:S;QTY:100;TICKER:WAYNE\\nValor invalido de SIDE; TICKER mal formatado; ',\n",
              " 'SIDE:S;QTY:100;TICKER:LEXC0\\nValor invalido de SIDE; ',\n",
              " 'SIDE:B;QTY:81;TICKER:ACEC4\\nValor invalido de SIDE; QTY não é múltiplo de 10; ',\n",
              " 'SIDE:B;QTY:100;TICKER:LEX4\\nValor invalido de SIDE; TICKER mal formatado; ',\n",
              " 'SIDE:SELL;QTY:369;TICKER:ACEC4\\nQTY não é múltiplo de 10; ',\n",
              " 'SIDE:SELL;QTY:2;TICKER:ACEC4\\nQTY não é múltiplo de 10; ',\n",
              " 'SIDE:BUY;QTY:-100;TICKER:ACEC4\\nQTY não é positivo; ',\n",
              " 'SIDE:SELL;QTY:9;TICKER:ACEC4\\nQTY não é múltiplo de 10; ',\n",
              " 'SIDE:BUY;QTY:1;TICKER:ACEC4\\nQTY não é múltiplo de 10; ',\n",
              " 'SIDE:SELL;QTY:-100;TICKER:ACE4\\nQTY não é positivo; TICKER mal formatado; ',\n",
              " 'SIDE:SELL;QTY:SELL;TICKER:ACE4\\nQTY não é múltiplo de 10; TICKER mal formatado; ',\n",
              " 'SIDE:BUY;QTY:33;TICKER:LEXC0\\nQTY não é múltiplo de 10; ',\n",
              " 'SIDE:BUY;QTY:-1;TICKER:ACEC4\\nQTY não é múltiplo de 10; QTY não é positivo; ',\n",
              " 'SIDE:BUY;QTY:95;TICKER:QEEN36\\nQTY não é múltiplo de 10; ',\n",
              " 'SIDE:BUY;QTY:-100;TICKER:ACECHEMICAL\\nQTY não é positivo; TICKER mal formatado; ',\n",
              " 'SIDE:BUY;QTY:42;TICKER:ACE43\\nQTY não é múltiplo de 10; TICKER mal formatado; ',\n",
              " 'SIDE:BUY;QTY:100;TICKER:ACE4\\nTICKER mal formatado; ',\n",
              " 'SIDE:BUY;QTY:100;TICKER:ACECHEMICAL\\nTICKER mal formatado; ',\n",
              " 'SIDE:BUY;QTY:100;TICKER:DAILYPLANET\\nTICKER mal formatado; ',\n",
              " 'SIDE:BUY;QTY:100;TICKER:LEX4\\nTICKER mal formatado; ',\n",
              " 'SIDE:BUY;QTY:100;TICKER:WAY3\\nTICKER mal formatado; ',\n",
              " 'SIDE:BUY;QTY:200;TICKER:ACE43\\nTICKER mal formatado; ',\n",
              " 'SIDE:SELL;QTY:100;TICKER:WAYNE\\nTICKER mal formatado; ',\n",
              " 'SIDE:BUY;QTY:100;TICKER:WAYNE\\nTICKER mal formatado; ']"
            ]
          },
          "metadata": {
            "tags": []
          },
          "execution_count": 28
        }
      ]
    },
    {
      "cell_type": "markdown",
      "metadata": {
        "id": "I1n-J4INW-EB"
      },
      "source": [
        "# 5. Conclusão"
      ]
    },
    {
      "cell_type": "markdown",
      "metadata": {
        "id": "pjNOqcZ8XBgT"
      },
      "source": [
        "Finalmente, após filtrar as linhas do arquivo, podemos imprimir nossos resultados:"
      ]
    },
    {
      "cell_type": "code",
      "metadata": {
        "colab": {
          "base_uri": "https://localhost:8080/"
        },
        "id": "nZWRH3_qXQWK",
        "outputId": "f0e558b5-d658-4077-c8c2-5d1389eeec73"
      },
      "source": [
        "print('Retornar o total que foi comprado e vendido no dia por ativo (TICKER)\\n')\n",
        "for i in ativos:\n",
        "  print(i)\n",
        "print('\\n Informar quais linhas são inválidas \\n')\n",
        "for j in ativos_invalidos:\n",
        "  print(j,'\\n')"
      ],
      "execution_count": 29,
      "outputs": [
        {
          "output_type": "stream",
          "text": [
            "Retornar o total que foi comprado e vendido no dia por ativo (TICKER)\n",
            "\n",
            "ACEC4:480\n",
            "WAYN3:4320\n",
            "LEXC0:4900\n",
            "QEEN36:-2000\n",
            "ACEC43:400\n",
            "ACME11:7650\n",
            "PALM9:600\n",
            "LEXC44:-1200\n",
            "\n",
            " Informar quais linhas são inválidas \n",
            "\n",
            "SIDE:B;QTY:100;TICKER:QEEN36\n",
            "Valor invalido de SIDE;  \n",
            "\n",
            "SIDE:B;QTY:100;TICKER:WAYNE\n",
            "Valor invalido de SIDE; TICKER mal formatado;  \n",
            "\n",
            "SIDE:S;QTY:-100;TICKER:ACE4\n",
            "Valor invalido de SIDE; QTY não é positivo; TICKER mal formatado;  \n",
            "\n",
            "SIDE:S;QTY:100;TICKER:WAYNE\n",
            "Valor invalido de SIDE; TICKER mal formatado;  \n",
            "\n",
            "SIDE:S;QTY:100;TICKER:LEXC0\n",
            "Valor invalido de SIDE;  \n",
            "\n",
            "SIDE:B;QTY:81;TICKER:ACEC4\n",
            "Valor invalido de SIDE; QTY não é múltiplo de 10;  \n",
            "\n",
            "SIDE:B;QTY:100;TICKER:LEX4\n",
            "Valor invalido de SIDE; TICKER mal formatado;  \n",
            "\n",
            "SIDE:SELL;QTY:369;TICKER:ACEC4\n",
            "QTY não é múltiplo de 10;  \n",
            "\n",
            "SIDE:SELL;QTY:2;TICKER:ACEC4\n",
            "QTY não é múltiplo de 10;  \n",
            "\n",
            "SIDE:BUY;QTY:-100;TICKER:ACEC4\n",
            "QTY não é positivo;  \n",
            "\n",
            "SIDE:SELL;QTY:9;TICKER:ACEC4\n",
            "QTY não é múltiplo de 10;  \n",
            "\n",
            "SIDE:BUY;QTY:1;TICKER:ACEC4\n",
            "QTY não é múltiplo de 10;  \n",
            "\n",
            "SIDE:SELL;QTY:-100;TICKER:ACE4\n",
            "QTY não é positivo; TICKER mal formatado;  \n",
            "\n",
            "SIDE:SELL;QTY:SELL;TICKER:ACE4\n",
            "QTY não é múltiplo de 10; TICKER mal formatado;  \n",
            "\n",
            "SIDE:BUY;QTY:33;TICKER:LEXC0\n",
            "QTY não é múltiplo de 10;  \n",
            "\n",
            "SIDE:BUY;QTY:-1;TICKER:ACEC4\n",
            "QTY não é múltiplo de 10; QTY não é positivo;  \n",
            "\n",
            "SIDE:BUY;QTY:95;TICKER:QEEN36\n",
            "QTY não é múltiplo de 10;  \n",
            "\n",
            "SIDE:BUY;QTY:-100;TICKER:ACECHEMICAL\n",
            "QTY não é positivo; TICKER mal formatado;  \n",
            "\n",
            "SIDE:BUY;QTY:42;TICKER:ACE43\n",
            "QTY não é múltiplo de 10; TICKER mal formatado;  \n",
            "\n",
            "SIDE:BUY;QTY:100;TICKER:ACE4\n",
            "TICKER mal formatado;  \n",
            "\n",
            "SIDE:BUY;QTY:100;TICKER:ACECHEMICAL\n",
            "TICKER mal formatado;  \n",
            "\n",
            "SIDE:BUY;QTY:100;TICKER:DAILYPLANET\n",
            "TICKER mal formatado;  \n",
            "\n",
            "SIDE:BUY;QTY:100;TICKER:LEX4\n",
            "TICKER mal formatado;  \n",
            "\n",
            "SIDE:BUY;QTY:100;TICKER:WAY3\n",
            "TICKER mal formatado;  \n",
            "\n",
            "SIDE:BUY;QTY:200;TICKER:ACE43\n",
            "TICKER mal formatado;  \n",
            "\n",
            "SIDE:SELL;QTY:100;TICKER:WAYNE\n",
            "TICKER mal formatado;  \n",
            "\n",
            "SIDE:BUY;QTY:100;TICKER:WAYNE\n",
            "TICKER mal formatado;  \n",
            "\n"
          ],
          "name": "stdout"
        }
      ]
    }
  ]
}